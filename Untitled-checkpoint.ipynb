{
 "cells": [
  {
   "cell_type": "code",
   "execution_count": 5,
   "id": "f0515225-47c1-44ae-9dfa-094b0a1b01d3",
   "metadata": {},
   "outputs": [
    {
     "name": "stdout",
     "output_type": "stream",
     "text": [
      "Before\n",
      "Is 5\n",
      "Is Still 5\n",
      "Afterwards 5\n",
      "Before\n"
     ]
    }
   ],
   "source": [
    "x = 5\n",
    "print ('Before')\n",
    "if x == 5:\n",
    "    print('Is 5')\n",
    "    print('Is Still 5')\n",
    "print('Afterwards 5')\n",
    "print('Before')"
   ]
  },
  {
   "cell_type": "code",
   "execution_count": 6,
   "id": "a36c5354-a253-4106-a822-30cbfb537134",
   "metadata": {},
   "outputs": [
    {
     "name": "stdout",
     "output_type": "stream",
     "text": [
      "More then one\n",
      "Less then 100\n",
      "All done\n"
     ]
    }
   ],
   "source": [
    "x = 42\n",
    "if x > 1 :\n",
    "    print ('More then one')\n",
    "    if x < 100:\n",
    "        print('Less then 100')\n",
    "print('All done')"
   ]
  },
  {
   "cell_type": "code",
   "execution_count": 7,
   "id": "d50306d1-dfc4-4ab9-bc16-f526246fb884",
   "metadata": {},
   "outputs": [
    {
     "name": "stdout",
     "output_type": "stream",
     "text": [
      "small\n",
      "all done\n"
     ]
    }
   ],
   "source": [
    "x = 0\n",
    "if x < 2 :\n",
    "    print('small')\n",
    "elif x < 10 :\n",
    "    print('medium')\n",
    "else :\n",
    "     print('large')\n",
    "print('all done')\n",
    "    "
   ]
  },
  {
   "cell_type": "code",
   "execution_count": 11,
   "id": "00db81ad-f73b-4267-bae8-a25915b68c27",
   "metadata": {},
   "outputs": [
    {
     "name": "stdout",
     "output_type": "stream",
     "text": [
      "First,astr\n",
      "second 123\n"
     ]
    }
   ],
   "source": [
    "astr = 'Hello Bob'\n",
    "try:\n",
    "    istr = int (astr)\n",
    "except:\n",
    "    istr = -1\n",
    "print('First,astr')\n",
    "astr = '123'\n",
    "try:\n",
    "    istr = int(astr)\n",
    "except:\n",
    "    istr = -1\n",
    "print('second',istr)"
   ]
  },
  {
   "cell_type": "code",
   "execution_count": 12,
   "id": "e71e9aea-6d59-4caf-be23-92028dd20938",
   "metadata": {},
   "outputs": [
    {
     "name": "stdout",
     "output_type": "stream",
     "text": [
      "Hello\n",
      "Done -1\n"
     ]
    }
   ],
   "source": [
    "astr = 'Bob'\n",
    "try:\n",
    "    print('Hello')\n",
    "    istr = int(astr)\n",
    "    print('There')\n",
    "except:\n",
    "    istr = -1\n",
    "print('Done',istr)\n",
    "    "
   ]
  },
  {
   "cell_type": "code",
   "execution_count": 13,
   "id": "2f2b48c7-9330-4195-9ec2-3a34ad877a4b",
   "metadata": {},
   "outputs": [
    {
     "name": "stdout",
     "output_type": "stream",
     "text": [
      "[[1 2 3]\n",
      " [4 5 6]]\n"
     ]
    }
   ],
   "source": [
    "import numpy as np\n",
    "arr = np.array([[1,2,3],[4,5,6]])\n",
    "print(arr)"
   ]
  },
  {
   "cell_type": "code",
   "execution_count": 14,
   "id": "766e19df-8e1a-46ba-8417-645b468e0c01",
   "metadata": {},
   "outputs": [
    {
     "name": "stdout",
     "output_type": "stream",
     "text": [
      "[[[1 2 3]\n",
      "  [4 5 6]]\n",
      "\n",
      " [[1 2 3]\n",
      "  [4 5 6]]]\n"
     ]
    }
   ],
   "source": [
    "import numpy as np\n",
    "arr = np.array([[[1,2,3],[4,5,6]],[[1,2,3],[4,5,6]]])\n",
    "print(arr)"
   ]
  },
  {
   "cell_type": "code",
   "execution_count": 15,
   "id": "219c7019-6589-440f-8017-0e424a8f419b",
   "metadata": {},
   "outputs": [
    {
     "name": "stdout",
     "output_type": "stream",
     "text": [
      "0\n",
      "1\n",
      "3\n"
     ]
    }
   ],
   "source": [
    "import numpy as np\n",
    "a = np.array(42)\n",
    "b = np.array([1,2,3,4,5])\n",
    "c = np.array([[[1,2,3],[4,5,6]],[[1,2,3],[4,5,6]]])\n",
    "print (a.ndim)\n",
    "print(b.ndim)\n",
    "print (c.ndim)\n"
   ]
  },
  {
   "cell_type": "code",
   "execution_count": 16,
   "id": "8923b8ca-2a4a-4d3f-9483-297b31241664",
   "metadata": {},
   "outputs": [
    {
     "name": "stdout",
     "output_type": "stream",
     "text": [
      "2nd element on 1st row: 3\n",
      "[1 2 3]\n"
     ]
    }
   ],
   "source": [
    "import numpy as np\n",
    "arr = np.array([[1,2,3],[4,5,6]])\n",
    "print('2nd element on 1st row:',arr[0,2])\n",
    "print(arr[0])"
   ]
  },
  {
   "cell_type": "code",
   "execution_count": 17,
   "id": "5005993c-7902-4667-b4bc-6dd27786e7f2",
   "metadata": {},
   "outputs": [
    {
     "name": "stdout",
     "output_type": "stream",
     "text": [
      "1\n",
      "2\n",
      "3\n",
      "4\n",
      "5\n",
      "6\n",
      "7\n",
      "8\n"
     ]
    }
   ],
   "source": [
    "import numpy as np\n",
    "arr = np.array([[[1,2],[3,4]],[[5,6],[7,8]]])\n",
    "for x in np.nditer(arr):\n",
    "    print(x)\n",
    "# print(arr.ndi"
   ]
  },
  {
   "cell_type": "code",
   "execution_count": 18,
   "id": "eafa63e6-a53a-4a7f-a5de-b1c5fcfe526a",
   "metadata": {},
   "outputs": [
    {
     "name": "stdout",
     "output_type": "stream",
     "text": [
      "[1 2 3 4 5 6]\n"
     ]
    }
   ],
   "source": [
    "#joint two array\n",
    "import numpy as np\n",
    "arr1 = np.array([1,2,3])\n",
    "arr2 = np.array([4,5,6])\n",
    "arr = np.concatenate((arr1,arr2))\n",
    "print(arr)"
   ]
  },
  {
   "cell_type": "code",
   "execution_count": 19,
   "id": "744bbdf4-3a05-41ef-9091-1244859d10e4",
   "metadata": {},
   "outputs": [
    {
     "name": "stdout",
     "output_type": "stream",
     "text": [
      "(array([6]),)\n"
     ]
    }
   ],
   "source": [
    "#array search\n",
    "import numpy as np\n",
    "arr = np.array([1,2,3,4,5,4,7,4])\n",
    "x = np.where(arr == 7)\n",
    "print(x)"
   ]
  },
  {
   "cell_type": "code",
   "execution_count": 20,
   "id": "107627ae-fa6d-46e0-aa4a-4a3355b89240",
   "metadata": {},
   "outputs": [
    {
     "name": "stdout",
     "output_type": "stream",
     "text": [
      "[0 1 2 3]\n"
     ]
    }
   ],
   "source": [
    "#sorting\n",
    "#does not change the original value rather returns the copy\n",
    "import numpy as np\n",
    "arr =np.array([3,2,0,1])\n",
    "print(np.sort(arr))"
   ]
  },
  {
   "cell_type": "code",
   "execution_count": 21,
   "id": "438d9995-25b4-4e57-b88a-9f71f456db13",
   "metadata": {},
   "outputs": [
    {
     "name": "stdout",
     "output_type": "stream",
     "text": [
      "[41 43]\n"
     ]
    }
   ],
   "source": [
    "#array filtering\n",
    "import numpy as np\n",
    "arr = np.array([41,42,43,44])\n",
    "x = [True, False,True,False]\n",
    "newarr = arr[x]\n",
    "print (newarr)"
   ]
  },
  {
   "cell_type": "code",
   "execution_count": 22,
   "id": "d11278ed-2cd2-4b78-a042-b316883c0e91",
   "metadata": {},
   "outputs": [
    {
     "name": "stdout",
     "output_type": "stream",
     "text": [
      "{'money': 12, 'candy': 3, 'tissues': 75}\n"
     ]
    }
   ],
   "source": [
    "#dictionaries\n",
    "purse = dict()\n",
    "purse ['money']= 12\n",
    "purse ['candy'] = 3\n",
    "purse ['tissues']=75\n",
    "print (purse)"
   ]
  },
  {
   "cell_type": "code",
   "execution_count": 23,
   "id": "8d775814-6a6b-49e1-a4b6-f00288a35376",
   "metadata": {},
   "outputs": [
    {
     "name": "stdout",
     "output_type": "stream",
     "text": [
      "{'money': 12, 'candy': 3, 'tissues': 75}\n",
      "3\n"
     ]
    }
   ],
   "source": [
    "purse = dict()\n",
    "purse ['money']= 12\n",
    "purse ['candy'] = 3\n",
    "purse ['tissues']=75\n",
    "print (purse)\n",
    "print (purse['candy'])"
   ]
  },
  {
   "cell_type": "code",
   "execution_count": 24,
   "id": "6a2fc448-dbab-4f0e-b30b-f6470da7437e",
   "metadata": {},
   "outputs": [
    {
     "name": "stdout",
     "output_type": "stream",
     "text": [
      "['candy']\n"
     ]
    }
   ],
   "source": [
    "purse = ['candy'] \n",
    "purse1 = ['money']\n",
    "purse2 = ['candy']\n",
    "purse3 = ['tissues']\n",
    "print(purse)"
   ]
  },
  {
   "cell_type": "code",
   "execution_count": 25,
   "id": "bde27554-9848-421e-8893-97bf3cdad41e",
   "metadata": {},
   "outputs": [
    {
     "name": "stdout",
     "output_type": "stream",
     "text": [
      "[21, 183]\n"
     ]
    },
    {
     "data": {
      "text/plain": [
       "21"
      ]
     },
     "execution_count": 25,
     "metadata": {},
     "output_type": "execute_result"
    }
   ],
   "source": [
    "#comparing lists and dictionaries\n",
    "st = list()\n",
    "st.append(21)\n",
    "st.append(183)\n",
    "print(st)\n",
    "[21,183]\n",
    "st[0]"
   ]
  },
  {
   "cell_type": "code",
   "execution_count": 29,
   "id": "fe58c3eb-e2a5-420a-9153-7ab7640d1b6b",
   "metadata": {},
   "outputs": [],
   "source": [
    "#File handle as a sequence"
   ]
  },
  {
   "cell_type": "code",
   "execution_count": 30,
   "id": "9e95f9bf-5b29-44c5-b562-367e0a0638b4",
   "metadata": {},
   "outputs": [
    {
     "name": "stdout",
     "output_type": "stream",
     "text": [
      "[ 1.19806271e-01  1.10742636e+00 -1.14692899e+00 -4.72410526e-01\n",
      "  5.13098021e-01  8.37550534e-01  3.14617466e-01  8.25009212e-01\n",
      " -6.61409862e-01  8.11909094e-01 -4.97730779e-01  4.65263990e-01\n",
      " -1.75964684e+00 -4.73837025e-01 -1.49537067e+00  8.76805427e-01\n",
      "  2.15803019e+00  2.99738053e-01 -6.03936965e-02  1.26142033e+00\n",
      " -2.42745817e-01 -4.25833335e-01  4.11467378e-01 -4.04127729e-02\n",
      " -3.24057659e-01  7.55223785e-01  1.36006158e+00  3.25813387e-01\n",
      "  1.34321995e+00  8.84004055e-01  1.01967606e+00  1.26140411e+00\n",
      "  4.27897889e-01  2.51148865e-01 -2.51424617e+00  1.89830625e+00\n",
      " -2.43970797e+00  1.00282271e+00 -4.43986070e-02  7.63366007e-01\n",
      " -1.28270355e+00 -2.90003004e-01  4.10279362e-01  1.13394652e+00\n",
      " -6.40491598e-01  4.40964675e-01 -5.71621311e-01  7.55654860e-01\n",
      "  2.47687574e-01 -5.31933707e-01  1.35878587e+00 -3.00962145e-01\n",
      " -2.08073164e-01  8.78592738e-01  1.26934676e-01  1.01169893e+00\n",
      " -8.29602277e-01  5.34517698e-01  8.78238557e-01 -1.27345402e+00\n",
      "  5.90024894e-01 -2.56252437e+00 -8.16859258e-01  3.32248149e-01\n",
      "  1.36277074e+00  2.48483546e-01 -3.86476927e-01 -2.22392893e+00\n",
      " -4.96156752e-01  4.51209759e-01 -2.24963648e-01  4.60884204e-01\n",
      " -4.17697663e-01 -9.70361353e-01 -6.07983628e-01  7.61925093e-01\n",
      "  1.46678465e-01 -2.14803079e+00  1.06427402e-01 -1.24703652e+00\n",
      "  6.48577199e-01  3.45341973e-01  1.33539180e+00  2.53686078e-01\n",
      " -1.45853474e+00  1.33162848e-01  1.21180523e+00  1.06711181e+00\n",
      " -6.33732831e-01  4.13689882e-01  1.59250755e-01 -1.01265686e+00\n",
      " -9.98589950e-02  1.25159957e+00  6.67476259e-01 -3.52146317e-01\n",
      " -4.69070337e-01 -5.21173453e-01 -1.41935908e-05  3.96371151e-01\n",
      " -5.40857830e-02  1.06088163e+00  7.74019535e-01 -1.01108918e+00\n",
      "  7.20959839e-01 -3.24195525e-01 -5.65603697e-01  2.25091345e+00\n",
      " -1.24518146e+00  3.43429164e-01 -1.27081095e+00 -1.06929294e+00\n",
      " -3.36259826e-01 -1.02843367e+00  1.27145637e-01 -1.92402350e+00\n",
      " -4.13260113e-01  7.21290858e-01 -7.33144032e-01  1.35773754e-01\n",
      "  9.45133000e-01 -1.65270541e-01 -1.31964652e+00  1.08378067e+00\n",
      "  2.73856372e-01  1.21875584e-01 -2.21839398e+00  1.26278524e+00\n",
      " -9.29403645e-02 -1.25600489e+00 -1.96644218e+00 -8.11384529e-01\n",
      " -3.60419428e-01 -8.24054136e-01  5.82913906e-01 -8.00021437e-01\n",
      " -6.27346321e-01  1.95392237e+00 -4.34849902e-02 -1.36187267e+00\n",
      "  4.44652862e-01  5.53522082e-02  1.32483201e+00  4.95465848e-01\n",
      "  3.10014665e-01 -3.02580776e-01  1.05303384e+00 -1.50119460e+00\n",
      "  4.54591208e-01  2.95205513e-01  3.20257331e-01  1.27576226e+00\n",
      " -1.11127859e+00 -2.88566995e+00  3.84330936e-01  5.88112531e-01\n",
      "  2.10182063e+00  4.08466541e-01  2.88140970e-01  8.35154996e-01\n",
      "  1.59566527e+00  4.50420883e-01  6.53771667e-01  1.10667333e+00\n",
      " -8.13473811e-01  7.02280256e-01  8.69678990e-01  7.43120489e-01\n",
      " -1.10923456e+00 -8.62607534e-02 -1.56113491e-01  2.30619359e-01\n",
      "  2.26459428e+00 -6.31155842e-01 -2.11656963e-01 -1.17012342e+00\n",
      "  2.65242734e-02  2.95935780e-01  5.83605385e-01  3.17150481e-01\n",
      " -4.51671518e-01  6.98647220e-01 -7.53975661e-02  3.41306499e-01\n",
      " -1.62617115e-02  2.16027154e-01 -1.08151852e+00 -6.28782768e-01\n",
      "  1.58542403e+00 -3.26190098e-02  9.99445413e-01 -1.05340597e-01\n",
      " -1.48249361e+00 -9.97505721e-01  5.15194695e-01  6.40713115e-01\n",
      "  3.63322784e-01 -6.32610361e-01 -9.90131562e-01  1.81357762e+00\n",
      "  1.84533921e+00  1.20103341e-02 -3.49081665e+00  1.23575425e-01\n",
      "  2.23957717e-01  6.45463966e-01  4.28480585e-01  2.79173617e-01\n",
      " -4.32684587e-01 -4.71022191e-01  4.44422262e-01  2.05235635e-01\n",
      " -3.02591306e-01 -1.01472643e+00  1.71737758e+00 -5.35283328e-01\n",
      "  2.93728462e-01  7.75535313e-01 -4.23385048e-01 -9.37937448e-01\n",
      "  9.31357584e-02 -1.35256510e+00  9.69727480e-02 -7.81043993e-01\n",
      "  2.71078461e-01 -3.36166016e-02 -3.21856624e-02  1.85863685e-02\n",
      " -1.37419824e+00  1.09098271e-02 -7.69750298e-01  7.92415285e-01\n",
      "  2.14546801e-01  2.00855939e-01 -8.25134707e-01 -9.88817700e-01\n",
      "  2.77945577e-01 -4.59060706e-01 -4.06873872e-01  2.05810595e+00\n",
      " -1.40398489e+00  1.66344847e+00 -1.55187123e+00  1.18061700e+00\n",
      "  8.37306428e-01 -1.79279517e+00 -2.19517934e+00 -1.80825559e-01\n",
      "  1.06616583e-01  1.22379614e+00  1.39920042e+00  5.13834966e-01\n",
      " -1.24394795e+00 -1.28842537e-01  1.07694309e-01 -9.38240606e-01\n",
      " -3.34624662e-03  1.11614216e+00  1.08665212e+00 -2.43392607e+00\n",
      " -1.10607317e+00  2.68370606e-01 -3.18099369e-01  1.52596476e-01\n",
      " -8.12886842e-02  2.12667907e+00  8.86099186e-02  6.52984625e-01\n",
      " -1.48984445e+00  1.69543186e+00  1.22618901e+00  1.70544371e+00\n",
      " -6.07455255e-01  1.47153514e+00 -1.28089383e-01 -3.23447713e-01\n",
      "  3.29244200e-01  1.43061032e+00  1.08028133e+00  1.45017070e-01\n",
      "  2.93445756e-01 -8.50535565e-01  2.53259670e-01  7.90646456e-01\n",
      " -9.32734952e-01  5.88579126e-01 -6.70476821e-01  1.74815463e-01\n",
      "  1.15311569e+00  1.44300789e+00  8.46930098e-01 -1.17661125e+00\n",
      " -1.85652639e-01  3.26225272e-01  2.00010068e-01 -1.34289678e-01\n",
      "  1.51647260e-01  8.44142722e-01 -1.29317215e+00  5.25376930e-01\n",
      " -4.27060798e-01  7.63523760e-01  1.72967198e+00  2.01965817e-01\n",
      " -1.55839042e+00 -4.35307652e-02 -3.12592275e-01  1.41709974e-01\n",
      "  2.62143747e+00  8.19287216e-01  2.47193481e-01  6.76473008e-02\n",
      " -1.33558798e+00 -1.20771393e+00 -1.36713417e+00  3.98343201e-01\n",
      "  9.71796399e-01  9.41252710e-02  1.51727289e-01  1.10283804e+00\n",
      " -1.11513595e+00 -5.87981244e-01 -6.09749408e-01  5.90172693e-01\n",
      "  1.65104034e+00  1.48304225e+00  3.49292614e-01  7.19540431e-01\n",
      "  1.09001129e-01  2.23779317e-02  9.29735338e-01 -1.33040411e-01\n",
      "  1.53717088e+00 -5.89353737e-01  5.40075806e-02 -3.71758827e-01\n",
      "  5.95930112e-01 -8.59366165e-01 -8.55480709e-01 -7.87901407e-01\n",
      " -7.00438521e-01  1.06499533e+00  8.81331105e-01 -1.45017835e+00\n",
      " -2.30475183e+00  2.93282555e-01 -1.51682515e+00  1.17831557e+00\n",
      "  6.11560193e-01 -3.21498762e-01  1.19164194e+00 -8.27584831e-01\n",
      " -8.31687512e-02 -1.75305779e+00  2.37863248e+00 -2.31147209e-01\n",
      "  2.03109915e+00  2.29644339e-01 -5.82272145e-01  8.10569780e-01\n",
      "  5.73332802e-01  1.90551844e+00 -1.01347488e-01 -4.80035699e-01\n",
      " -1.09891750e+00 -5.02892483e-01 -1.40465875e+00 -1.88433277e+00\n",
      "  9.92501220e-01 -4.73589478e-02 -6.72071460e-01  5.12166259e-01\n",
      "  1.08869859e+00 -1.21600367e+00  1.00824944e+00  5.25089462e-01\n",
      "  1.23711427e+00 -1.05256974e+00  8.45884856e-01 -1.64395250e+00\n",
      " -9.67942658e-01 -1.05130148e+00 -3.09964235e-02 -2.70812986e+00\n",
      " -9.68553356e-01 -9.73338853e-02  3.29091071e-01  3.93015274e-01\n",
      " -2.33937852e-01  1.04780165e-01 -2.00335734e-02 -9.34926345e-02\n",
      " -8.51551103e-01 -1.06675196e+00  6.35125336e-01  1.36486778e+00\n",
      " -2.05804739e-01 -2.40188502e+00  5.83414493e-01  8.28371546e-01\n",
      " -3.74874423e-01 -1.87733096e-02  1.15592633e+00  1.18139986e-03\n",
      "  2.36503084e-01  3.92646697e-01  6.92141544e-01 -5.07947346e-01\n",
      " -9.36777346e-01 -2.91748133e-01 -1.37230001e+00  1.09476435e+00\n",
      "  4.50067000e-01 -6.92909250e-01  1.12434397e+00 -3.42546911e-01\n",
      " -8.86591070e-01  4.53318397e-01 -1.70482629e-01  7.56089574e-01\n",
      " -9.47039334e-01  5.14433406e-01 -1.02121484e+00 -5.27513553e-01\n",
      "  5.41690995e-01 -3.28287901e-01  2.19582399e+00  1.24558169e+00\n",
      " -5.01637616e-01  1.31864667e+00  2.49344573e-01 -1.53173631e+00\n",
      "  3.13701984e-01  3.46208244e+00  6.46464517e-01 -6.39070582e-01\n",
      "  1.88777033e-01 -3.85386707e-01  1.82713403e+00  7.34832311e-01\n",
      "  5.96953268e-01  7.56351953e-01  4.09469460e-01  7.22269029e-01\n",
      "  4.06711840e-01  6.07853451e-01 -6.68747966e-01 -1.19967574e+00\n",
      "  4.76319330e-01  1.07286495e+00  1.48211322e+00 -4.64117926e-01\n",
      " -3.67111360e-01 -2.45549427e+00  9.11101050e-01 -1.11891569e+00\n",
      " -7.08153742e-01  1.04538110e+00  1.82813502e+00 -2.60070591e-01\n",
      "  1.81002287e-01 -2.50942342e-01 -8.35861152e-01 -1.88486749e+00\n",
      "  6.04212043e-01  2.62818400e-01 -5.66387862e-01 -1.03312767e+00\n",
      " -4.65613093e-01 -7.41296164e-01  5.05909071e-01 -7.39490164e-01\n",
      " -6.55166011e-01 -3.31323667e-01 -7.21751170e-01 -8.67019214e-01\n",
      "  1.08755816e+00 -1.27701663e+00 -1.31993675e-01 -1.19501645e+00\n",
      "  1.09069754e+00  7.95686283e-02 -4.90083393e-01  6.39204721e-01\n",
      "  2.12613070e+00 -1.39776986e+00 -9.47294425e-01  2.52925582e+00\n",
      " -4.73725668e-01  2.48334763e-01  1.76112002e+00 -2.87364805e+00\n",
      "  7.27593073e-01 -2.22215064e+00 -1.73741110e-01  9.95757680e-01\n",
      " -1.29099303e+00  4.10275224e-01 -1.72261604e-01  9.08356061e-01\n",
      " -1.60636917e+00 -1.62841997e+00  4.37574558e-01 -1.01881494e+00\n",
      " -1.08105121e+00 -5.82503919e-01  8.18682351e-01 -2.36677651e-01\n",
      " -7.30583776e-01  1.71951535e+00  2.03404053e+00  2.04688297e+00\n",
      "  7.59477639e-01 -1.20550057e+00 -4.96432650e-01  8.90337475e-01\n",
      " -1.28808276e-01  1.11944394e+00  5.10867012e-01  9.25223801e-01\n",
      " -2.26993930e+00  1.47563975e-02  2.79533948e-01  4.97947332e-01\n",
      " -8.08209259e-01  4.88421328e-01 -1.12785873e+00  1.18777299e+00\n",
      " -8.94052018e-01  2.80764099e-01 -1.05736946e+00  5.60123190e-02\n",
      "  2.46076246e-01 -9.26588973e-01  2.67049209e-02  1.59093290e-01\n",
      "  1.86167608e+00 -1.70935801e-01  9.35577735e-01  1.36270392e+00\n",
      " -9.86406181e-01 -6.41087577e-01  9.33299871e-01  2.05097651e+00\n",
      "  4.31836265e-01 -1.59945335e+00  1.40634191e+00 -7.55396434e-02\n",
      "  4.67155267e-01 -7.41240359e-01  4.37693025e-01  1.79920479e+00\n",
      "  1.21433391e+00 -2.90493258e-02 -3.75130368e-01  3.22470908e-01\n",
      " -2.56673483e+00  6.10822756e-01 -8.93008429e-01 -8.29504137e-01\n",
      "  1.72931288e-01  1.86796995e-01 -3.33553598e-01  4.00139209e-01\n",
      " -1.07184599e+00 -5.33127980e-01  2.16773183e-01  1.36904233e-01\n",
      "  6.80138743e-01 -1.18959179e+00  1.95758497e+00  1.32244909e+00\n",
      "  6.85502481e-01  1.86492213e-01 -1.05844843e+00  1.08127453e+00\n",
      " -1.14211927e+00 -7.85056652e-01  1.24551916e-01 -2.24739353e+00\n",
      "  2.01321765e-01 -1.63761013e-01  2.11822731e+00 -1.11243568e+00\n",
      " -1.90854825e+00  5.43503845e-01  2.77953181e-02 -1.60158392e+00\n",
      " -4.66265635e-01 -1.17423597e+00  5.37220210e-01 -5.63587903e-01\n",
      " -1.42683013e+00  4.66150983e-01 -1.36703540e+00 -1.15119735e+00\n",
      "  2.31548553e-02  1.66331212e+00  1.95040818e-01 -1.08393907e+00\n",
      " -1.93025718e+00  9.83029555e-01  5.09674951e-01  9.98662186e-01\n",
      " -1.52745218e+00  3.85487250e-01 -1.07048811e+00 -9.16607653e-01\n",
      "  6.94208395e-01  6.80198307e-02  1.55405391e+00  1.46974254e+00\n",
      " -3.85417287e-01  2.75667851e-01  1.30283538e+00  8.27754244e-01\n",
      " -5.77323603e-02  1.04787605e+00  3.38596306e-01 -1.59201148e+00\n",
      " -7.92477863e-01  4.24856051e-01 -1.00151532e+00 -1.03315637e+00\n",
      " -5.63624244e-02  1.15122487e+00  9.26810718e-02  6.95035752e-01\n",
      " -4.55831174e-01  7.04171560e-01 -8.59475682e-01 -1.66116165e+00\n",
      " -1.70657421e+00 -8.66421760e-01 -3.91273309e-01 -1.34408937e+00\n",
      " -1.31297723e-01  4.87771265e-01  6.90719618e-01 -1.15467830e+00\n",
      "  2.40537088e-01  1.64191070e+00  7.41782895e-01  1.08484392e+00\n",
      "  8.89607009e-01  1.78566315e-01 -1.02292681e+00 -5.66271682e-01\n",
      " -6.51966068e-01 -4.70950055e-01  3.95588186e-01  2.10434561e-01\n",
      " -5.43747349e-01  5.18676063e-01  2.44299178e-01 -7.68386246e-01\n",
      " -6.07575957e-01 -2.43811797e+00  4.84979635e-01  2.10196618e+00\n",
      "  1.26254141e+00  1.24963371e+00 -6.41116415e-01  2.10460991e-01\n",
      "  2.80769102e-01 -3.96370257e-02 -7.25524302e-01 -2.28140088e-01\n",
      " -8.71105518e-01  1.10138488e+00  2.14553493e+00 -1.28276724e-01\n",
      "  4.17848902e-01 -2.71602379e-01  1.36245618e+00  2.12507607e+00\n",
      " -6.13991425e-01 -1.60817600e-02  1.00469122e+00 -9.93628306e-01\n",
      "  1.26054956e+00  1.03932028e+00  3.20744430e-01 -7.38724343e-02\n",
      "  1.91519525e-01 -1.60502301e-01  5.41425145e-02 -3.89054264e-01\n",
      "  3.96630851e-01 -4.26103994e-01 -1.13908406e+00  6.71845655e-01\n",
      " -6.39945804e-01 -2.53723675e-01  6.01394004e-02  4.65542093e-01\n",
      "  1.74767529e+00  6.11553215e-01  4.28178522e-01 -3.09788541e-01\n",
      "  6.03281056e-01 -1.66149825e+00  5.43214315e-01  7.92065310e-01\n",
      " -9.18798525e-01 -7.77953273e-03  1.46710589e+00  8.57906687e-01\n",
      "  6.19244681e-01 -5.47275049e-02 -9.95310699e-01 -1.32353650e+00\n",
      "  1.49194501e+00 -1.34243619e-01 -1.02849813e-02  1.19922402e+00\n",
      " -9.17988421e-01 -1.44822120e+00 -9.10445633e-01 -2.00169955e+00\n",
      "  9.16640348e-02 -3.40739695e-02 -1.47050992e-01  3.72822372e-01\n",
      " -5.91432314e-01  2.51553094e-01  4.33189498e-01  2.12014943e-01\n",
      " -1.18776403e+00 -3.80657532e-01 -1.06329256e+00  6.60293957e-01\n",
      "  2.31914800e+00  2.84210181e-01  1.19568091e+00 -1.35703299e+00\n",
      "  1.40732204e-01 -9.34318421e-02 -3.39706454e-01 -2.93060197e-02\n",
      "  6.29366126e-01 -4.47955720e-01 -7.30516208e-01  1.23574121e-01\n",
      " -3.45781198e-01  1.05723512e+00  4.19768704e-01  1.30754758e+00\n",
      " -7.72875618e-01  1.71311964e-01  1.23222708e+00 -3.17230137e-01\n",
      " -7.88111419e-01 -7.09898738e-01  1.31911280e+00  8.47038626e-02\n",
      " -2.20229149e-01 -3.35495412e-01  7.31763343e-01  2.12774066e-01\n",
      " -2.17124882e+00 -1.07383140e+00 -3.00111560e+00 -2.65863181e+00\n",
      "  1.01293293e+00  4.45017059e-01 -1.06458796e+00  7.61020357e-01\n",
      "  2.25038419e-01 -6.96495108e-01  4.38029514e-01 -4.31244912e-01\n",
      "  2.66991153e-01 -1.50750460e+00  8.86292099e-01 -4.79105950e-01\n",
      " -3.81687461e-02  7.51270876e-01 -3.57945144e-01 -5.57370958e-01\n",
      " -1.10337068e+00  9.77512770e-01  2.64281705e+00  8.68354256e-01\n",
      "  1.46327846e+00 -1.20093909e+00  1.04696254e-01  6.28230807e-02\n",
      "  1.08932594e+00 -5.10304533e-01  1.43474016e-01 -7.61910910e-02\n",
      " -4.44009597e-01 -5.28131993e-01  4.85905562e-01  2.43764726e-01\n",
      "  1.16995322e+00 -2.68453943e-01 -7.33218343e-01  1.85329595e+00\n",
      " -4.74831382e-01 -1.44455424e-01 -2.27697950e-01 -1.97544452e+00\n",
      "  1.04286200e+00 -1.22735895e-01 -3.18448093e-01  9.74462645e-01\n",
      "  4.44913650e-01  9.23112078e-01 -1.31340157e-01 -4.67826534e-01\n",
      " -3.91445242e-01  4.45057637e-01 -7.03348458e-01  2.35448766e-01\n",
      " -1.76505354e+00  3.52485565e+00 -1.98358672e+00 -1.00211262e+00\n",
      " -2.54401783e-01 -1.73704137e+00  7.32186866e-01 -5.65231918e-01\n",
      " -1.39112380e+00  5.22339823e-01  1.18027393e+00  5.26087021e-01\n",
      "  1.40872559e+00 -5.27374669e-01 -3.90984636e-01 -1.33940785e+00\n",
      "  5.74815918e-01 -1.21047480e+00 -8.04970251e-01  1.47913355e+00\n",
      "  7.54301801e-01  6.81142423e-01 -8.20262604e-01 -8.84852208e-01\n",
      " -1.98424568e-01 -7.73410156e-01 -9.03754868e-01  1.14264027e+00\n",
      " -1.00435157e+00 -1.76212296e-01 -1.41504012e+00  2.05528037e+00\n",
      "  6.77475849e-01  1.98007452e-01  1.45131360e+00  1.13618105e+00\n",
      " -2.30831113e-01  7.45604503e-01 -1.32626943e+00 -1.40811167e+00\n",
      "  4.73058690e-01  1.67516607e+00  7.43322481e-01  3.19932416e-01\n",
      "  1.22147227e+00 -1.13699902e+00 -1.45465833e+00  5.43163618e-01\n",
      "  1.27884200e+00 -2.86004609e-01  9.76778229e-01 -1.19195751e-02\n",
      "  8.13779552e-01 -1.48712390e+00 -3.03334865e-01 -6.25562118e-01\n",
      "  9.17289251e-01 -6.22699158e-02 -9.51031218e-01  1.12492118e+00\n",
      " -1.86169163e-01  7.96434741e-01  3.72602505e-01  1.60217270e+00\n",
      "  2.38712665e-01 -3.60742436e-02 -1.96679943e-01 -2.14999560e-01\n",
      "  1.86904886e+00 -1.95244331e-01  2.78396759e-01  1.81917788e+00\n",
      " -3.11073329e+00  7.86178829e-01  1.47258804e-01 -4.52393199e-01\n",
      " -4.23875693e-01  8.26364087e-01 -2.21160388e-02 -8.09085557e-01\n",
      " -8.66165435e-01 -8.19135072e-02 -1.36587901e+00  2.88222419e-01\n",
      " -7.37724951e-01 -1.81502821e+00  8.81381712e-01 -2.17249310e+00\n",
      " -2.14917968e-01 -4.34273572e-01 -1.43426101e-01  1.12917244e+00\n",
      " -7.02363594e-01 -8.59488554e-01 -6.46320829e-03 -4.82890641e-01\n",
      "  4.16728298e-02  1.36277189e+00  3.95660183e-02  1.87912388e-01\n",
      "  8.54465626e-01 -8.32807518e-01 -1.30956158e+00 -6.28521772e-01\n",
      "  4.12853218e-01  1.19032483e+00  1.14153811e+00 -1.32431524e-01\n",
      " -1.19177031e-01 -1.42555072e+00  2.53706412e-01 -4.39551540e-01\n",
      " -4.56971377e-01 -9.47927424e-01  8.13938291e-01  2.34713410e+00\n",
      "  1.70476147e-01 -7.65528548e-01 -3.05501155e-01  9.10190789e-02\n",
      " -1.13155489e-01 -1.34450302e+00  2.87387236e-01  2.75200051e-01\n",
      " -1.09616062e-01  1.33069181e+00 -2.03178645e-01  3.60823635e-05\n",
      " -7.55894732e-01 -6.70684577e-01  1.18280197e-01  5.65523604e-01\n",
      " -3.90235400e-01  6.01786628e-02 -1.85302485e-01 -5.23869323e-01\n",
      "  1.68753900e+00  1.20128384e-02  1.35013772e+00 -1.47739620e+00\n",
      " -3.46176886e-01  8.88529137e-02 -8.89202821e-01 -4.04399917e-03\n",
      "  4.96170953e-02  1.21980993e-01  2.40630925e-01 -9.01646531e-01\n",
      "  2.27599343e+00 -1.25392255e+00  1.41200230e+00  8.97016225e-01\n",
      " -3.91979760e-01  9.07582777e-01 -8.33941385e-01  3.07572143e-01\n",
      " -6.86498836e-01 -3.04089391e-01 -8.37267961e-01  2.67714323e-01\n",
      "  2.15497578e+00 -2.03008271e+00  4.72633696e-01  5.61015869e-01\n",
      " -1.18904084e+00  1.42183881e+00 -1.68050062e+00  7.95618037e-01\n",
      "  4.09684967e-02 -1.88114758e-01  8.08376502e-01 -5.66101983e-01\n",
      " -1.10263798e+00  1.02893330e+00 -7.58050408e-01 -2.33551920e-02\n",
      " -5.05926070e-01  7.88578097e-01 -9.86160442e-01  9.23944307e-01\n",
      " -8.71680932e-01  9.50939886e-01 -5.29666747e-01  2.69017822e-01]\n"
     ]
    }
   ],
   "source": [
    "import numpy as np\n",
    "from numpy import random\n",
    "import matplotlib.pyplot as plt\n",
    "import seaborn as sns\n",
    "x = random.normal(size=1000)\n",
    "print(x)"
   ]
  },
  {
   "cell_type": "code",
   "execution_count": 31,
   "id": "7175feb6-5da9-4d49-9ffe-bcd52f5946c9",
   "metadata": {},
   "outputs": [
    {
     "data": {
      "text/plain": [
       "<seaborn.axisgrid.FacetGrid at 0x1c2fb025730>"
      ]
     },
     "execution_count": 31,
     "metadata": {},
     "output_type": "execute_result"
    },
    {
     "data": {
      "image/png": "[encoded data removed]",
      "text/plain": [
       "<Figure size 500x500 with 1 Axes>"
      ]
     },
     "metadata": {},
     "output_type": "display_data"
    }
   ],
   "source": [
    "sns.displot(random.normal(size=1000))"
   ]
  },
  {
   "cell_type": "code",
   "execution_count": 32,
   "id": "dc4e5659-d5ef-4f27-858d-9a1397aabbd7",
   "metadata": {},
   "outputs": [
    {
     "name": "stdout",
     "output_type": "stream",
     "text": [
      "[4 3 4 4 8 6 7 4 9 6 5 4 5 9 4 5 3 2 6 6 4 3 3 3 5 3 3 4 7 3 4 8 3 5 4 5 3\n",
      " 5 5 5 5 5 4 7 5 4 7 3 5 3 4 5 5 4 5 4 5 5 5 6 5 5 6 3 5 7 4 4 4 4 4 4 5 6\n",
      " 6 5 4 2 5 7 4 8 4 5 5 6 4 8 4 6 7 6 7 4 6 4 6 4 7 7 6 8 4 5 6 7 2 4 2 4 7\n",
      " 8 4 2 7 4 5 7 7 4 6 8 6 3 6 8 7 5 4 6 4 6 6 7 8 5 5 7 5 7 6 4 5 6 4 5 5 2\n",
      " 4 6 4 4 7 6 6 5 6 4 7 5 6 6 8 7 5 5 8 4 5 4 6 4 8 3 5 7 5 2 5 4 5 3 3 5 7\n",
      " 6 5 7 5 4 7 4 3 4 3 4 3 4 7 2 3 5 3 5 7 4 7 3 6 7 4 5 4 6 3 2 4 5 8 4 5 7\n",
      " 5 5 2 5 6 4 3 7 5 5 7 4 5 6 3 7 7 4 5 6 3 6 5 3 4 4 6 6 6 6 4 5 4 4 3 4 7\n",
      " 7 4 5 7 3 5 4 3 7 5 4 7 7 6 8 7 4 5 1 5 4 7 6 5 8 4 5 4 3 4 6 4 2 3 7 5 3\n",
      " 5 3 7 4 4 4 4 6 5 4 5 7 7 8 6 5 5 3 5 4 3 8 4 6 7 5 5 4 8 5 8 4 4 4 3 3 3\n",
      " 5 4 5 6 5 3 4 2 9 3 4 8 6 5 6 4 5 4 7 7 7 4 5 4 4 3 4 3 7 4 3 7 8 9 7 5 5\n",
      " 2 4 2 6 7 8 6 6 6 5 6 6 4 4 4 6 5 8 5 6 4 9 5 4 6 5 7 6 3 5 5 6 4 5 6 5 5\n",
      " 3 3 6 6 6 6 4 7 5 7 6 6 3 6 2 4 2 6 5 8 4 3 5 6 8 6 5 4 6 5 6 4 6 4 5 6 5\n",
      " 4 6 6 5 3 3 6 5 5 4 6 6 3 4 6 5 6 3 3 3 7 3 6 3 6 8 6 7 5 5 4 6 7 4 5 8 6\n",
      " 6 5 3 4 6 3 7 7 4 5 4 1 6 5 5 5 4 8 5 6 3 5 7 8 5 3 5 7 2 3 3 5 3 6 3 5 3\n",
      " 4 4 4 5 6 3 2 5 4 2 6 1 5 5 6 6 3 6 4 6 2 2 5 4 4 6 5 5 5 4 4 7 5 4 5 4 3\n",
      " 5 7 3 4 5 7 7 6 1 4 7 5 6 4 5 6 8 5 7 5 4 3 4 7 4 4 6 2 4 9 5 4 5 3 6 6 8\n",
      " 5 3 6 7 4 8 5 5 7 5 6 6 4 5 5 5 4 4 5 3 5 6 5 7 4 3 6 6 4 2 6 5 6 7 5 6 7\n",
      " 6 6 7 5 5 3 4 4 6 3 5 5 7 6 5 5 6 4 4 5 4 3 3 7 6 3 6 6 3 3 6 5 4 8 8 5 6\n",
      " 2 5 3 3 7 4 3 4 4 7 4 5 3 4 6 3 5 4 4 3 4 7 5 5 5 1 4 7 2 6 3 5 6 5 5 5 7\n",
      " 5 2 6 1 5 6 3 5 3 3 6 4 5 6 5 6 4 4 3 6 7 5 7 6 5 2 5 8 5 6 2 7 3 4 5 6 3\n",
      " 4 6 4 9 6 6 6 5 3 6 5 6 4 5 7 4 9 6 5 4 3 6 2 4 4 4 2 5 5 6 4 5 8 5 4 2 5\n",
      " 3 5 6 5 4 4 3 4 6 4 5 5 5 5 4 5 3 5 3 5 8 6 4 5 6 5 7 4 3 5 7 5 3 7 6 5 7\n",
      " 5 5 7 5 5 4 6 9 5 7 4 4 4 7 4 4 4 7 6 5 6 6 5 5 3 6 6 5 7 6 8 5 4 3 4 6 2\n",
      " 5 8 5 7 6 4 5 7 6 5 6 3 4 5 4 6 3 3 3 6 5 4 6 6 5 3 4 7 7 4 5 5 5 5 5 5 4\n",
      " 6 3 4 6 6 3 4 3 5 6 5 5 5 3 3 4 3 6 4 9 7 4 6 6 4 6 6 4 5 5 4 4 6 6 4 6 3\n",
      " 5 6 6 4 6 6 3 4 0 5 6 4 5 4 3 4 3 7 5 3 6 4 7 5 8 7 5 3 7 8 3 6 5 6 2 5 2\n",
      " 3 3 5 8 6 4 4 7 5 4 5 4 8 3 6 4 3 4 4 6 7 6 4 5 7 5 7 5 5 2 4 7 5 4 7 9 7\n",
      " 5]\n"
     ]
    },
    {
     "name": "stderr",
     "output_type": "stream",
     "text": [
      "C:\\Users\\Vishakha Kumari\\AppData\\Local\\Temp\\ipykernel_25148\\2932074556.py:8: UserWarning: \n",
      "\n",
      "`distplot` is a deprecated function and will be removed in seaborn v0.14.0.\n",
      "\n",
      "Please adapt your code to use either `displot` (a figure-level function with\n",
      "similar flexibility) or `histplot` (an axes-level function for histograms).\n",
      "\n",
      "For a guide to updating your code to use the new functions, please see\n",
      "https://gist.github.com/mwaskom/de44147ed2974457ad6372750bbe5751\n",
      "\n",
      "  sns.distplot(random.binomial(n=10,p= 0.5, size=1000), hist=True, kde = False)\n"
     ]
    },
    {
     "data": {
      "text/plain": [
       "<Axes: >"
      ]
     },
     "execution_count": 32,
     "metadata": {},
     "output_type": "execute_result"
    },
    {
     "data": {
      "image/png": "[encoded data removed]",
      "text/plain": [
       "<Figure size 640x480 with 1 Axes>"
      ]
     },
     "metadata": {},
     "output_type": "display_data"
    }
   ],
   "source": [
    "#binomial distribution\n",
    "from numpy import random\n",
    "x = random.binomial(n=10,p=0.5,size=1000)\n",
    "print(x)\n",
    "from numpy import random\n",
    "import matplotlib.pyplot as plt\n",
    "import seaborn as sns \n",
    "sns.distplot(random.binomial(n=10,p= 0.5, size=1000), hist=True, kde = False)"
   ]
  },
  {
   "cell_type": "code",
   "execution_count": 33,
   "id": "611215d7-4605-4588-986a-bd359deac58f",
   "metadata": {},
   "outputs": [
    {
     "name": "stdout",
     "output_type": "stream",
     "text": [
      "[1 3 1 1 2 0 1 1 1 2]\n"
     ]
    }
   ],
   "source": [
    "from numpy import random\n",
    "x= random.poisson(lam=2,size=10)\n",
    "print(x)"
   ]
  },
  {
   "cell_type": "code",
   "execution_count": 34,
   "id": "fc0d3024-8238-49e7-8321-9b0c1cf396d3",
   "metadata": {},
   "outputs": [],
   "source": [
    "#visualization of poissson distribution"
   ]
  },
  {
   "cell_type": "code",
   "execution_count": 35,
   "id": "7b176995-c8c3-4c2a-9181-d83217e77b7d",
   "metadata": {},
   "outputs": [
    {
     "name": "stdout",
     "output_type": "stream",
     "text": [
      "    cars  passings\n",
      "0    BMW         3\n",
      "1  Volvo         7\n",
      "2   Ford         2\n"
     ]
    }
   ],
   "source": [
    "import pandas as pd\n",
    "mydataset ={#data\n",
    "    'cars':[\"BMW\",\"Volvo\",\"Ford\"],\n",
    "    'passings':[3,7,2]\n",
    "}\n",
    "myvar = pd.DataFrame(mydataset)#fuction arg\n",
    "print(myvar)"
   ]
  },
  {
   "cell_type": "code",
   "execution_count": 36,
   "id": "f4cd462d-4a04-4b38-8463-8ce7fe900cdc",
   "metadata": {},
   "outputs": [
    {
     "name": "stdout",
     "output_type": "stream",
     "text": [
      "day1    420\n",
      "day2    380\n",
      "day3    390\n",
      "dtype: int64\n"
     ]
    }
   ],
   "source": [
    "import pandas as pd\n",
    "calories = {\"day1\":420,\"day2\":380,\"day3\":390}\n",
    "myvar = pd.Series(calories)\n",
    "print(myvar)"
   ]
  },
  {
   "cell_type": "code",
   "execution_count": 37,
   "id": "bf08a28c-f296-4c3c-82ee-326c019ece67",
   "metadata": {},
   "outputs": [],
   "source": [
    "#differece between serie and dataframe\n",
    "#data can be of two types 1.categorial data 2. numerial data\n",
    "#linear regression\n",
    "#Read CSV file from URL"
   ]
  },
  {
   "cell_type": "code",
   "execution_count": 38,
   "id": "a81358d6-f0eb-4470-bdc7-6fb2107554f2",
   "metadata": {},
   "outputs": [
    {
     "name": "stdout",
     "output_type": "stream",
     "text": [
      "     sepal length  sepal width  petal length  petal width    species\n",
      "0             5.1          3.5           1.4          0.2     setosa\n",
      "1             4.9          3.0           1.4          0.2     setosa\n",
      "2             4.7          3.2           1.3          0.2     setosa\n",
      "3             4.6          3.1           1.5          0.2     setosa\n",
      "4             5.0          3.6           1.4          0.2     setosa\n",
      "..            ...          ...           ...          ...        ...\n",
      "145           6.7          3.0           5.2          2.3  virginica\n",
      "146           6.3          2.5           5.0          1.9  virginica\n",
      "147           6.5          3.0           5.2          2.0  virginica\n",
      "148           6.2          3.4           5.4          2.3  virginica\n",
      "149           5.9          3.0           5.1          1.8  virginica\n",
      "\n",
      "[150 rows x 5 columns]\n"
     ]
    }
   ],
   "source": [
    "#Read CSV file from URL\n",
    "import pandas as pd\n",
    "#url = 'https;//raw.githubusercontent.com/cs109/2024_data/master/countries.csv\"\n",
    "url = \"https://raw.githubusercontent.com/vizydrop/data-samples/master/flowers.csv\"\n",
    "df = pd.read_csv(url)\n",
    "print(df)"
   ]
  },
  {
   "cell_type": "code",
   "execution_count": null,
   "id": "f11d4478-aa9d-4839-80b3-1df7ca810088",
   "metadata": {},
   "outputs": [],
   "source": []
  },
  {
   "cell_type": "code",
   "execution_count": 39,
   "id": "15847517-8cdc-46ba-935e-66d99d78cf5c",
   "metadata": {},
   "outputs": [
    {
     "name": "stdout",
     "output_type": "stream",
     "text": [
      "Enter a line of text:\n"
     ]
    },
    {
     "name": "stdin",
     "output_type": "stream",
     "text": [
      " hello this is 123 and i am 456 learning python, @ \n"
     ]
    },
    {
     "name": "stdout",
     "output_type": "stream",
     "text": [
      "Words: ['hello', 'this', 'is', '123', 'and', 'i', 'am', '456', 'learning', 'python,', '@']\n",
      "Counting\n",
      "concatination of the numbers: \n",
      "additions of the numbers 0\n",
      "concatination of the numbers: \n",
      "additions of the numbers 0\n",
      "concatination of the numbers: \n",
      "additions of the numbers 0\n",
      "concatination of the numbers: 123\n",
      "additions of the numbers 123\n",
      "concatination of the numbers: 123\n",
      "additions of the numbers 123\n",
      "concatination of the numbers: 123\n",
      "additions of the numbers 123\n",
      "concatination of the numbers: 123456\n",
      "additions of the numbers 579\n",
      "concatination of the numbers: 123456\n",
      "additions of the numbers 579\n",
      "concatination of the numbers: 123456\n",
      "additions of the numbers 579\n"
     ]
    }
   ],
   "source": [
    "#counting pattern\n",
    "counts = dict()\n",
    "print('Enter a line of text:')\n",
    "line = input('')\n",
    "\n",
    "words = line.split()\n",
    "print('Words:',words)\n",
    "print('Counting')\n",
    "concatenated_num=''\n",
    "add = 0\n",
    "for word in words:\n",
    "   \n",
    "    try:\n",
    "        num = int(word)\n",
    "        add = add + int(word)\n",
    "        concatenated_num = concatenated_num + word\n",
    "    except:\n",
    "        pass\n",
    "        print('concatination of the numbers:',concatenated_num)\n",
    "        print('additions of the numbers',add)\n",
    "        special_chars = ['!','@','#','$','&','*']\n",
    "\n",
    "special_found = False\n",
    "for word in words:\n",
    "    if word in special_chars:\n",
    "        special_found =True\n",
    "        break\n",
    "    if special_found:\n",
    "        print(\"The special characters are found\")\n",
    "else:\n",
    "    print(\"Special characters are not present.\")\n",
    "        "
   ]
  },
  {
   "cell_type": "code",
   "execution_count": null,
   "id": "87b3a7a4-59aa-43b0-9791-8d2f837a2022",
   "metadata": {},
   "outputs": [],
   "source": []
  }
 ],
 "metadata": {
  "kernelspec": {
   "display_name": "Python 3 (ipykernel)",
   "language": "python",
   "name": "python3"
  },
  "language_info": {
   "codemirror_mode": {
    "name": "ipython",
    "version": 3
   },
   "file_extension": ".py",
   "mimetype": "text/x-python",
   "name": "python",
   "nbconvert_exporter": "python",
   "pygments_lexer": "ipython3",
   "version": "3.12.5"
  }
 },
 "nbformat": 4,
 "nbformat_minor": 5
}
