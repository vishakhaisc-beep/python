{
 "cells": [
  {
   "cell_type": "code",
   "execution_count": 3,
   "id": "8f833d75-9cc6-4e9d-a481-d7e972162a1c",
   "metadata": {},
   "outputs": [
    {
     "name": "stdout",
     "output_type": "stream",
     "text": [
      "enter a line of text: \n"
     ]
    },
    {
     "name": "stdout",
     "output_type": "stream",
     "text": [
      " hi i am 123 and this is 456 learning python @ , +\n"
     ]
    },
    {
     "name": "stdout",
     "output_type": "stream",
     "text": [
      "word:  ['hi', 'i', 'am', '123', 'and', 'this', 'is', '456', 'learning', 'python', '@', ',', '+']\n",
      "counting...\n",
      "counts {'hi': 1, 'i': 1, 'am': 1, '123': 1, 'and': 1, 'this': 1, 'is': 1, '456': 1, 'learning': 1, 'python': 1, '@': 1, ',': 1, '+': 1}\n",
      "concatination of the numbers:  123456\n",
      "additions of the numbers 579\n",
      " The special characters are present.\n"
     ]
    }
   ],
   "source": [
    "counts = dict()\n",
    "print('enter a line of text: ')\n",
    "line= input('')\n",
    "words=line.split()\n",
    "print('word: ',words)\n",
    "\n",
    "print('counting...')\n",
    "for word in words:\n",
    "    counts[word]=counts.get(word,0)+1\n",
    "print('counts',counts)\n",
    "concat_num=''\n",
    "add = 0\n",
    "for word in words: \n",
    "    try: \n",
    "        num = int(word)\n",
    "        add = add + int(word)\n",
    "        concat_num+=word\n",
    "    except: \n",
    "        pass\n",
    "print('concatination of the numbers: ',concat_num)\n",
    "print('additions of the numbers' ,add)\n",
    "\n",
    "special_chars = ['!', '@', '#', '$', '%', '^', '&', '*', '(', ')']\n",
    "special_found = False\n",
    "\n",
    "for word in words:\n",
    "    if word in special_chars:\n",
    "        special_found = True\n",
    "        break\n",
    "\n",
    "if special_found:\n",
    "    print(\" The special characters are present.\")\n",
    "else:\n",
    "    print(\"Special characters are not present.\")"
   ]
  },
  {
   "cell_type": "code",
   "execution_count": 4,
   "id": "d9249a0a-917e-4383-babf-e44232e250d6",
   "metadata": {},
   "outputs": [
    {
     "name": "stdout",
     "output_type": "stream",
     "text": [
      "before 0\n",
      "1 9\n",
      "2 41\n",
      "3 12\n",
      "4 3\n",
      "5 74\n",
      "6 15\n",
      "after 6\n"
     ]
    }
   ],
   "source": [
    "zork = 0\n",
    "print ('before',zork)\n",
    "for thing in [9,41,12,3,74,15] :\n",
    "    zork = zork+1\n",
    "    print(zork,thing)\n",
    "print('after',zork)"
   ]
  },
  {
   "cell_type": "code",
   "execution_count": null,
   "id": "a2af8cda-5ce6-48b5-848a-256cba50a990",
   "metadata": {},
   "outputs": [],
   "source": [
    "\n"
   ]
  },
  {
   "cell_type": "code",
   "execution_count": null,
   "id": "2d0eeaab-32b2-4736-b9a0-ca825e44fe2f",
   "metadata": {},
   "outputs": [],
   "source": []
  },
  {
   "cell_type": "code",
   "execution_count": 17,
   "id": "6969dfe0-8c1e-4e12-8045-2fa0b132de63",
   "metadata": {},
   "outputs": [
    {
     "name": "stdout",
     "output_type": "stream",
     "text": [
      "Hello,world!\n"
     ]
    }
   ],
   "source": [
    "def say_hello():#there is no parameter\n",
    "    print(\"Hello,world!\")\n",
    "say_hello() #calling the function"
   ]
  },
  {
   "cell_type": "code",
   "execution_count": 18,
   "id": "489d2857-ffe6-4b05-8ba0-2ac582a3e590",
   "metadata": {},
   "outputs": [
    {
     "name": "stdout",
     "output_type": "stream",
     "text": [
      "the sum is: 8\n"
     ]
    }
   ],
   "source": [
    "def add(a,b):\n",
    "    return a + b\n",
    "result = add(5,3)\n",
    "print(\"the sum is:\",result)"
   ]
  },
  {
   "cell_type": "code",
   "execution_count": 19,
   "id": "b810b411-6414-491d-a653-bc3b60d8396e",
   "metadata": {},
   "outputs": [
    {
     "name": "stdout",
     "output_type": "stream",
     "text": [
      "Hello,Ali!\n",
      "Hello,sam!\n"
     ]
    }
   ],
   "source": [
    "def greet(name=\"Ali\"):\n",
    "    print(\"Hello,\"+ name + \"!\")\n",
    "greet() # use default\n",
    "greet(\"sam\") #uses provided value\n",
    "    "
   ]
  },
  {
   "cell_type": "code",
   "execution_count": 20,
   "id": "e67ec88f-78e5-4661-97de-54c0f84c1553",
   "metadata": {},
   "outputs": [
    {
     "name": "stdout",
     "output_type": "stream",
     "text": [
      "True\n",
      "False\n"
     ]
    }
   ],
   "source": [
    "def is_even(number):\n",
    "    if number % 2 == 0:\n",
    "        return True\n",
    "    else:\n",
    "        return False\n",
    "print(is_even(4))\n",
    "print(is_even(7))"
   ]
  },
  {
   "cell_type": "code",
   "execution_count": 29,
   "id": "975684c1-c249-4107-adcf-e1611423bc3f",
   "metadata": {},
   "outputs": [
    {
     "name": "stdout",
     "output_type": "stream",
     "text": [
      "25\n"
     ]
    }
   ],
   "source": [
    "def find_max(a, b, c):\n",
    "    return max(a, b, c)\n",
    "print(find_max(10, 25, 15))"
   ]
  },
  {
   "cell_type": "code",
   "execution_count": 28,
   "id": "10884ca3-24c1-4bb1-a582-1dfcb39fea93",
   "metadata": {},
   "outputs": [
    {
     "name": "stdout",
     "output_type": "stream",
     "text": [
      "guess a number beteen 1 and 10: 6\n"
     ]
    },
    {
     "name": "stdout",
     "output_type": "stream",
     "text": [
      "correct! you guessed it!\n"
     ]
    }
   ],
   "source": [
    "import random\n",
    "def guess_the_number():\n",
    "    number = random.randint(1, 10)\n",
    "    guess = int(input(\"guess a number beteen 1 and 10:\"))\n",
    "    if guess == number:\n",
    "        print(\"correct! you guessed it!\")\n",
    "    else:\n",
    "        print(f\" wrong! the number was {number}\")\n",
    "guess_the_number()"
   ]
  },
  {
   "cell_type": "code",
   "execution_count": 30,
   "id": "777dac1b-398c-490f-97ee-681cb94a97b4",
   "metadata": {},
   "outputs": [
    {
     "name": "stdout",
     "output_type": "stream",
     "text": [
      "press enter to roll the dice... 5\n"
     ]
    },
    {
     "name": "stdout",
     "output_type": "stream",
     "text": [
      "you rolled a1\n"
     ]
    }
   ],
   "source": [
    "import random\n",
    "def roll_dice():\n",
    "    input(\"press enter to roll the dice...\")\n",
    "    dice = random.randint(1,6)\n",
    "    print(f\"you rolled a{dice}\")\n",
    "roll_dice()"
   ]
  },
  {
   "cell_type": "code",
   "execution_count": 32,
   "id": "937db6b0-942a-41e0-9645-247c54903cb6",
   "metadata": {},
   "outputs": [
    {
     "name": "stdout",
     "output_type": "stream",
     "text": [
      "press enter to roll the dice... 2\n"
     ]
    },
    {
     "name": "stdout",
     "output_type": "stream",
     "text": [
      "you rolled: 1\n"
     ]
    },
    {
     "name": "stdout",
     "output_type": "stream",
     "text": [
      "Roll again?(y/n): y\n",
      "press enter to roll the dice... 4\n"
     ]
    },
    {
     "name": "stdout",
     "output_type": "stream",
     "text": [
      "you rolled: 2\n"
     ]
    },
    {
     "name": "stdout",
     "output_type": "stream",
     "text": [
      "Roll again?(y/n): y\n",
      "press enter to roll the dice... 2\n"
     ]
    },
    {
     "name": "stdout",
     "output_type": "stream",
     "text": [
      "you rolled: 2\n"
     ]
    },
    {
     "name": "stdout",
     "output_type": "stream",
     "text": [
      "Roll again?(y/n): y\n",
      "press enter to roll the dice... 6\n"
     ]
    },
    {
     "name": "stdout",
     "output_type": "stream",
     "text": [
      "you rolled: 4\n"
     ]
    },
    {
     "name": "stdout",
     "output_type": "stream",
     "text": [
      "Roll again?(y/n): n\n"
     ]
    }
   ],
   "source": [
    "import random\n",
    "def roll_dice():\n",
    "    return random.randint(1,6)\n",
    "while True:\n",
    "    input(\"press enter to roll the dice...\")\n",
    "    print(\"you rolled:\",roll_dice())\n",
    "    again = input(\"Roll again?(y/n):\")\n",
    "    if again.lower() != 'y':\n",
    "        break"
   ]
  },
  {
   "cell_type": "code",
   "execution_count": null,
   "id": "6e08f8bf-2722-41a9-bbb5-50e8b6c40b6b",
   "metadata": {},
   "outputs": [],
   "source": [
    "\n"
   ]
  },
  {
   "cell_type": "code",
   "execution_count": null,
   "id": "c4608600-92aa-4d5c-824c-88d2ffba1bfe",
   "metadata": {},
   "outputs": [],
   "source": [
    "import tkinter as tk\n",
    "import random\n",
    "def roll_dice():\n",
    "    dice_value = random.randint(1,6)\n",
    "    label_result.config(text=f\"you rolled:{dice_value}\")\n",
    "    dice_label.config(text=dice_unicode[dice_value])\n",
    "dice_unicode={\n",
    "    1: \"\\u2680\",\n",
    "    2: \"\\u2681\",\n",
    "    3: \"\\u2682\",\n",
    "    4: \"\\u2683\",\n",
    "    5: \"\\u2684\",\n",
    "    6: \"\\u2685\",\n",
    "}\n",
    "root = tk.Tk() #create main window\n",
    "root.title(\"Dice Roller\")\n",
    "root.geometry(\"300x200\")\n",
    "#dice face display\n",
    "dice_label = tk.Label(root,text=\"\",font=(\"Helvetica\",100))\n",
    "dice_label.pack()\n",
    "label_result = tk.Label(root,text=\"click to roll the dice!\",font=(\"Helvetica\",14))\n",
    "label_result.pack(pady=10)\n",
    "# roll button\n",
    "roll_button = tk.Button(root,text=\"Roll Dice\", command=roll_dice,font=(\"helvetica\",12))\n",
    "roll_button.pack()\n",
    "# run the gui loop\n",
    "root.mainloop()\n"
   ]
  },
  {
   "cell_type": "code",
   "execution_count": null,
   "id": "beab6125-9497-4e7e-abd3-f9f21f88ab74",
   "metadata": {},
   "outputs": [],
   "source": []
  },
  {
   "cell_type": "code",
   "execution_count": null,
   "id": "787b811b-8e0b-448a-bb49-85f8cbd12496",
   "metadata": {},
   "outputs": [],
   "source": []
  }
 ],
 "metadata": {
  "kernelspec": {
   "display_name": "Python 3 (ipykernel)",
   "language": "python",
   "name": "python3"
  },
  "language_info": {
   "codemirror_mode": {
    "name": "ipython",
    "version": 3
   },
   "file_extension": ".py",
   "mimetype": "text/x-python",
   "name": "python",
   "nbconvert_exporter": "python",
   "pygments_lexer": "ipython3",
   "version": "3.12.5"
  }
 },
 "nbformat": 4,
 "nbformat_minor": 5
}
